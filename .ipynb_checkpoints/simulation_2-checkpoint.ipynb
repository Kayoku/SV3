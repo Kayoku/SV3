{
 "cells": [
  {
   "cell_type": "code",
   "execution_count": 1,
   "metadata": {
    "collapsed": false
   },
   "outputs": [
    {
     "name": "stderr",
     "output_type": "stream",
     "text": [
      "/opt/anaconda3/lib/python3.5/site-packages/matplotlib/font_manager.py:273: UserWarning: Matplotlib is building the font cache using fc-list. This may take a moment.\n",
      "  warnings.warn('Matplotlib is building the font cache using fc-list. This may take a moment.')\n",
      "/opt/anaconda3/lib/python3.5/site-packages/matplotlib/font_manager.py:273: UserWarning: Matplotlib is building the font cache using fc-list. This may take a moment.\n",
      "  warnings.warn('Matplotlib is building the font cache using fc-list. This may take a moment.')\n"
     ]
    }
   ],
   "source": [
    "import numpy as np\n",
    "import matplotlib.pyplot as plt\n",
    "import time\n",
    "\n",
    "%matplotlib inline\n",
    "\n",
    "def f_time(c, r):\n",
    "    return (1/c) * np.log(1/r)\n",
    "\n",
    "def create_graph(t):\n",
    "    plt.xlim((0, t*2))\n",
    "    plt.ylim((0, 2))\n",
    "    plt.plot([0, t, t, 2], [1, 1, 0, 0])\n",
    "    plt.show()\n",
    "\n",
    "def create_multi_graphs(g):\n",
    "    x = g\n",
    "    y = []\n",
    "    for i in range(len(x)):\n",
    "        y.append(1 - (i / x.size))\n",
    "\n",
    "    plt.xlim((0, np.max(x)*1.1))\n",
    "    plt.ylim((0, 2))\n",
    "        \n",
    "    # Ajout du premier point\n",
    "    y = np.concatenate((np.array([1]), y))\n",
    "    x = np.concatenate((np.array([0]), x))\n",
    "        \n",
    "    # Ajout du dernier point\n",
    "    y = np.concatenate((y, (np.array([0]))))\n",
    "    x = np.concatenate((x, (np.array([x[x.size-1]]))))  \n",
    "        \n",
    "    plt.step(x, y)\n",
    "    plt.show()"
   ]
  },
  {
   "cell_type": "code",
   "execution_count": null,
   "metadata": {
    "collapsed": false
   },
   "outputs": [],
   "source": []
  },
  {
   "cell_type": "markdown",
   "metadata": {},
   "source": []
  },
  {
   "cell_type": "code",
   "execution_count": null,
   "metadata": {
    "collapsed": true
   },
   "outputs": [],
   "source": []
  }
 ],
 "metadata": {
  "anaconda-cloud": {},
  "kernelspec": {
   "display_name": "Python [Root]",
   "language": "python",
   "name": "Python [Root]"
  },
  "language_info": {
   "codemirror_mode": {
    "name": "ipython",
    "version": 3
   },
   "file_extension": ".py",
   "mimetype": "text/x-python",
   "name": "python",
   "nbconvert_exporter": "python",
   "pygments_lexer": "ipython3",
   "version": "3.5.2"
  }
 },
 "nbformat": 4,
 "nbformat_minor": 0
}
